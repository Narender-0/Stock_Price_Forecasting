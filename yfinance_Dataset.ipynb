{
  "nbformat": 4,
  "nbformat_minor": 0,
  "metadata": {
    "colab": {
      "provenance": []
    },
    "kernelspec": {
      "name": "python3",
      "display_name": "Python 3"
    },
    "language_info": {
      "name": "python"
    }
  },
  "cells": [
    {
      "cell_type": "code",
      "execution_count": 1,
      "metadata": {
        "colab": {
          "base_uri": "https://localhost:8080/"
        },
        "id": "e2dwynrfcRAn",
        "outputId": "78c7e913-af72-4896-c1bd-7407d516bb8b"
      },
      "outputs": [
        {
          "output_type": "stream",
          "name": "stdout",
          "text": [
            "Collecting ta\n",
            "  Downloading ta-0.11.0.tar.gz (25 kB)\n",
            "  Preparing metadata (setup.py) ... \u001b[?25l\u001b[?25hdone\n",
            "Requirement already satisfied: numpy in /usr/local/lib/python3.12/dist-packages (from ta) (2.0.2)\n",
            "Requirement already satisfied: pandas in /usr/local/lib/python3.12/dist-packages (from ta) (2.2.2)\n",
            "Requirement already satisfied: python-dateutil>=2.8.2 in /usr/local/lib/python3.12/dist-packages (from pandas->ta) (2.9.0.post0)\n",
            "Requirement already satisfied: pytz>=2020.1 in /usr/local/lib/python3.12/dist-packages (from pandas->ta) (2025.2)\n",
            "Requirement already satisfied: tzdata>=2022.7 in /usr/local/lib/python3.12/dist-packages (from pandas->ta) (2025.2)\n",
            "Requirement already satisfied: six>=1.5 in /usr/local/lib/python3.12/dist-packages (from python-dateutil>=2.8.2->pandas->ta) (1.17.0)\n",
            "Building wheels for collected packages: ta\n",
            "  Building wheel for ta (setup.py) ... \u001b[?25l\u001b[?25hdone\n",
            "  Created wheel for ta: filename=ta-0.11.0-py3-none-any.whl size=29412 sha256=497a3036f605922df985c790ad9ea1fc99914bc4aa767508ea63fb4b243537b6\n",
            "  Stored in directory: /root/.cache/pip/wheels/5c/a1/5f/c6b85a7d9452057be4ce68a8e45d77ba34234a6d46581777c6\n",
            "Successfully built ta\n",
            "Installing collected packages: ta\n",
            "Successfully installed ta-0.11.0\n"
          ]
        }
      ],
      "source": [
        "!pip install ta"
      ]
    },
    {
      "cell_type": "code",
      "source": [
        "import yfinance as yf\n",
        "import pandas as pd\n",
        "import numpy as np\n",
        "import ta\n",
        "\n",
        "tickers = [\n",
        "    'HDFCBANK.NS', 'ICICIBANK.NS' , 'INFY.NS','KOTAKBANK.NS','CUB.NS','UNIONBANK.NS','BANKINDIA.NS',\n",
        "     'TCS.NS', 'LT.NS', 'ITC.NS', 'SBIN.NS', 'AXISBANK.NS','PNB.NS','CANBK.NS','BANKBARODA.NS','INDUSINDBK.NS'\n",
        "]\n",
        "\n",
        "data = yf.download(tickers, start=\"2005-01-01\", end=\"2019-01-01\", group_by=\"ticker\")\n",
        "\n",
        "def create_features(df):\n",
        "    df = df.copy()\n",
        "\n",
        "    # Basic close & volume\n",
        "    df[\"Close_t\"] = df[\"Close\"]\n",
        "    df[\"Volume_t\"] = df[\"Volume\"]\n",
        "\n",
        "    #  EMA\n",
        "    df[\"EMA_5\"] = df[\"Close\"].ewm(span=5, adjust=False).mean().shift(1)\n",
        "    df[\"EMA_20\"] = df[\"Close\"].ewm(span=20, adjust=False).mean().shift(1)\n",
        "\n",
        "    # RSI\n",
        "    df[\"RSI_10\"] = ta.momentum.RSIIndicator(df[\"Close\"], window=10).rsi()\n",
        "\n",
        "    # MACD\n",
        "    macd = ta.trend.MACD(df[\"Close\"], window_slow=26, window_fast=12, window_sign=9)\n",
        "    df[\"MACD\"] = macd.macd()\n",
        "\n",
        "    # Bollinger Bandwidth\n",
        "    bb = ta.volatility.BollingerBands(df[\"Close\"], window=20, window_dev=2)\n",
        "    df[\"Bollinger_bandwidth\"] = (bb.bollinger_hband() - bb.bollinger_lband()) / bb.bollinger_mavg()\n",
        "\n",
        "    # OBV\n",
        "    df[\"OBV\"] = ta.volume.OnBalanceVolumeIndicator(df[\"Close\"], df[\"Volume\"]).on_balance_volume()\n",
        "\n",
        "    # Volatility & High-Low Range\n",
        "    df[\"Volatility_5\"] = df[\"Close\"].pct_change().rolling(5).std().shift(1)\n",
        "    df[\"Volatility_20\"] = df[\"Close\"].pct_change().rolling(20).std().shift(1)\n",
        "    df[\"Volatility_60\"] = df[\"Close\"].pct_change().rolling(60).std().shift(1)\n",
        "\n",
        "    # Momentum\n",
        "    df[\"Momentum_3\"] = df[\"Close\"] - df[\"Close\"].shift(3)\n",
        "    df[\"Momentum_5\"] = df[\"Close\"] - df[\"Close\"].shift(5)\n",
        "\n",
        "    # Volume features\n",
        "    df[\"Volume_SMA_5\"] = df[\"Volume\"].rolling(5).mean().shift(1)\n",
        "    df[\"Volume_SMA_20\"] = df[\"Volume\"].rolling(20).mean().shift(1)\n",
        "    df[\"Volume_Ratio\"] = df[\"Volume\"] / df[\"Volume\"].rolling(5).mean().shift(1)\n",
        "\n",
        "    df[\"High_Low_Range\"] = (df[\"Close\"] - df[\"Close\"].shift(1)) / df[\"Close\"].shift(1)   # daily high-low approx\n",
        "    df[\"Rolling_MaxDrawdown_30\"] = (df[\"Close\"] / df[\"Close\"].rolling(30).max() - 1).shift(1)\n",
        "    df[\"Rolling_MaxDrawdown_60\"] = (df[\"Close\"] / df[\"Close\"].rolling(60).max() - 1).shift(1)\n",
        "\n",
        "    # Volatility Regime Feature\n",
        "    rolling_vol = df[\"Close\"].pct_change().rolling(20).std().shift(1)\n",
        "    threshold = rolling_vol.median()\n",
        "    df[\"High_Volatility_Flag\"] = (rolling_vol > threshold).astype(int)\n",
        "    df = df.drop(['Close','Volume'],axis =1)\n",
        "    return df\n",
        "all_features = []\n",
        "\n",
        "for ticker in tickers:\n",
        "    stock_df = data[ticker].dropna()\n",
        "    feat_df = create_features(stock_df)\n",
        "    feat_df[\"Ticker\"] = ticker\n",
        "    feat_df[\"Target_Close_t+1\"] = feat_df[\"Close_t\"].shift(-1)\n",
        "    feat_df = feat_df[(feat_df[\"Close_t\"] != 0) & (feat_df[\"Volume_t\"] != 0)]\n",
        "    feat_df = feat_df.dropna().reset_index().rename(columns={\"index\": \"Date\"})\n",
        "    all_features.append(feat_df)\n",
        "\n",
        "final_df = pd.concat(all_features)\n",
        "final_df = final_df.dropna().reset_index(drop=True)\n",
        "final_df.to_csv(\"stock_features_dataset.csv\", index=False)\n",
        "\n",
        "print(\"Dataset created with shape:\", final_df.shape)\n",
        "print(final_df.head(10))\n"
      ],
      "metadata": {
        "colab": {
          "base_uri": "https://localhost:8080/"
        },
        "id": "RMh6sZ5ycav8",
        "outputId": "857f5efb-6096-4940-f93d-2e2c02cf5461"
      },
      "execution_count": 2,
      "outputs": [
        {
          "output_type": "stream",
          "name": "stderr",
          "text": [
            "/tmp/ipython-input-4264914341.py:11: FutureWarning: YF.download() has changed argument auto_adjust default to True\n",
            "  data = yf.download(tickers, start=\"2005-01-01\", end=\"2019-01-01\", group_by=\"ticker\")\n",
            "[*********************100%***********************]  16 of 16 completed\n"
          ]
        },
        {
          "output_type": "stream",
          "name": "stdout",
          "text": [
            "Dataset created with shape: (54142, 26)\n",
            "Price       Date       Open       High        Low    Close_t  Volume_t  \\\n",
            "0     2005-04-01  21.855559  22.295873  21.655416  22.077717   3359660   \n",
            "1     2005-04-04  22.095727  22.171781  21.625393  22.103733   2532680   \n",
            "2     2005-04-05  22.295875  22.496017  21.497307  21.613388   3840540   \n",
            "3     2005-04-06  21.465280  22.295872  21.465280  22.149767   4253720   \n",
            "4     2005-04-07  22.415960  22.694158  22.355917  22.542049   5089240   \n",
            "5     2005-04-08  22.574065  22.616095  21.535326  21.881573   4854300   \n",
            "6     2005-04-11  22.728174  22.728174  21.817527  22.297869   4174340   \n",
            "7     2005-04-12  22.375927  22.413953  22.015670  22.355911   2452720   \n",
            "8     2005-04-13  22.616096  22.956338  22.295869  22.473995  10028860   \n",
            "9     2005-04-15  22.455982  22.484001  21.335184  21.557343   5603660   \n",
            "\n",
            "Price      EMA_5     EMA_20     RSI_10      MACD  ...  Momentum_5  \\\n",
            "0      21.600228  22.379404  46.146581 -0.378468  ...    1.284914   \n",
            "1      21.759391  22.350672  46.576866 -0.346934  ...    0.770546   \n",
            "2      21.874172  22.327154  39.900551 -0.357389  ...    0.120087   \n",
            "3      21.787244  22.259176  48.817486 -0.318720  ...    0.804575   \n",
            "4      21.908085  22.248756  54.324465 -0.253498  ...    0.732525   \n",
            "5      22.119406  22.276689  45.222023 -0.252198  ...   -0.196144   \n",
            "6      22.040129  22.239059  50.974878 -0.215095  ...    0.194136   \n",
            "7      22.126042  22.244660  51.759731 -0.178945  ...    0.742523   \n",
            "8      22.202665  22.255255  53.444511 -0.139164  ...    0.324228   \n",
            "9      22.293108  22.276088  41.072161 -0.179533  ...   -0.984707   \n",
            "\n",
            "Price  Volume_SMA_5  Volume_SMA_20  Volume_Ratio  High_Low_Range  \\\n",
            "0         5360560.0      5522063.0      0.626737        0.012297   \n",
            "1         4350264.0      5458861.0      0.582190        0.001178   \n",
            "2         4439252.0      5257388.0      0.865132       -0.022184   \n",
            "3         4553828.0      5044125.0      0.934098        0.024817   \n",
            "4         3689176.0      4708913.0      1.379506        0.017710   \n",
            "5         3815168.0      4644107.0      1.272369       -0.029300   \n",
            "6         4114096.0      4658208.0      1.014643        0.019025   \n",
            "7         4442428.0      4605945.0      0.552112        0.002603   \n",
            "8         4164864.0      4484665.0      2.407968        0.005282   \n",
            "9         5319892.0      4862405.0      1.053341       -0.040787   \n",
            "\n",
            "Price  Rolling_MaxDrawdown_30  Rolling_MaxDrawdown_60  High_Volatility_Flag  \\\n",
            "0                   -0.127053               -0.127053                     1   \n",
            "1                   -0.116318               -0.116318                     1   \n",
            "2                   -0.115277               -0.115277                     1   \n",
            "3                   -0.134903               -0.134903                     1   \n",
            "4                   -0.113434               -0.113434                     1   \n",
            "5                   -0.097733               -0.097733                     1   \n",
            "6                   -0.124169               -0.124169                     1   \n",
            "7                   -0.107506               -0.107506                     1   \n",
            "8                   -0.105183               -0.105183                     1   \n",
            "9                   -0.100457               -0.100457                     1   \n",
            "\n",
            "Price       Ticker  Target_Close_t+1  \n",
            "0      HDFCBANK.NS         22.103733  \n",
            "1      HDFCBANK.NS         21.613388  \n",
            "2      HDFCBANK.NS         22.149767  \n",
            "3      HDFCBANK.NS         22.542049  \n",
            "4      HDFCBANK.NS         21.881573  \n",
            "5      HDFCBANK.NS         22.297869  \n",
            "6      HDFCBANK.NS         22.355911  \n",
            "7      HDFCBANK.NS         22.473995  \n",
            "8      HDFCBANK.NS         21.557343  \n",
            "9      HDFCBANK.NS         20.828825  \n",
            "\n",
            "[10 rows x 26 columns]\n"
          ]
        }
      ]
    }
  ]
}